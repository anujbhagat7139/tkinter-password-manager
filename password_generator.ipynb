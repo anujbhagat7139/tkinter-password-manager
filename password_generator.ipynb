{
 "cells": [
  {
   "cell_type": "code",
   "execution_count": null,
   "id": "30ebed5f",
   "metadata": {},
   "outputs": [
    {
     "name": "stdout",
     "output_type": "stream",
     "text": [
      "Your password is: s5v%Jx04a5kQ%EyN\n"
     ]
    }
   ],
   "source": [
    "from tkinter import *\n",
    "from tkinter import messagebox\n",
    "import random\n",
    "\n",
    "window=Tk()\n",
    "window.title(\"Password Manager\")\n",
    "window.config(padx=40,pady=40)\n",
    "\n",
    "def save():\n",
    "    email=email_entry.get()\n",
    "    website=website_entry.get()\n",
    "    password=password_entry.get()\n",
    "    if len(email)==0 or len(website)==0 or len(password)==0:\n",
    "        warning=messagebox.showinfo(title=\"Oops\",message=\"Please don't leave any fields empty!\")\n",
    "    else: \n",
    "        is_ok=messagebox.askokcancel(title=\"Website\",message=f\"These are the Details Entered:\\n Email:{email}\\n password:{password}\\n. Is it okay to save?\")\n",
    "        if is_ok:\n",
    "          data_file=open(\"password_data.txt\",mode=\"a\")\n",
    "          data_file.write(f\"{website} | {email} | {password} \\n\")\n",
    "          website_entry.delete(0,END)\n",
    "          password_entry.delete(0,END)\n",
    "          email_entry.delete(0,END)\n",
    "def random_password():\n",
    "    letters = ['a', 'b', 'c', 'd', 'e', 'f', 'g', 'h', 'i', 'j', 'k', 'l', 'm', 'n', 'o', 'p', 'q', 'r', 's', 't', 'u', 'v', 'w', 'x', 'y', 'z', 'A', 'B', 'C', 'D', 'E', 'F', 'G', 'H', 'I', 'J', 'K', 'L', 'M', 'N', 'O', 'P', 'Q', 'R', 'S', 'T', 'U', 'V', 'W', 'X', 'Y', 'Z']\n",
    "    numbers = ['0', '1', '2', '3', '4', '5', '6', '7', '8', '9']\n",
    "    symbols = ['!', '#', '$', '%', '&', '(', ')', '*', '+']\n",
    "\n",
    "    nr_letters = random.randint(8, 10)\n",
    "    nr_symbols = random.randint(2, 4)\n",
    "    nr_numbers = random.randint(2, 4)\n",
    "\n",
    "    password_list = []\n",
    "    password_letters=[random.choice(letters) for _ in range(nr_letters)]\n",
    "    password_symbols=[random.choice(symbols) for _ in range(nr_symbols)]\n",
    "    password_numbers=[random.choice(numbers) for _ in range(nr_numbers)]\n",
    "    password_list=password_letters+password_symbols+password_numbers\n",
    "    random.shuffle(password_list)\n",
    "    password=\"\".join(password_list)\n",
    "    password_entry.insert(0,password)\n",
    "    \n",
    "print(f\"Your password is: {password}\")\n",
    "canvas=Canvas(width=200,height=200)\n",
    "photo_image=PhotoImage(file=\"logo.png\")\n",
    "canvas.create_image(100,100,image=photo_image)\n",
    "canvas.grid(row=0,column=1)\n",
    "\n",
    "#Labels\n",
    "\n",
    "website_label=Label(text=\"Website:\")\n",
    "website_label.grid(row=1,column=0)\n",
    "\n",
    "email_label=Label(text=\"Email/Username:\")\n",
    "email_label.grid(row=2,column=0)\n",
    "\n",
    "password_label=Label(text=\"Password:\")\n",
    "password_label.grid(row=3,column=0)\n",
    "\n",
    "#Entry\n",
    "website_entry=Entry(width=35)\n",
    "website_entry.grid(row=1,column=1,columnspan=2)\n",
    "website_entry.focus()\n",
    "\n",
    "email_entry=Entry(width=35)\n",
    "email_entry.grid(row=2,column=1,columnspan=2)\n",
    "email_entry.insert(0,\"anuj@gmail.com\")\n",
    "\n",
    "password_entry=Entry(width=21)\n",
    "password_entry.grid(row=3,column=1)\n",
    "\n",
    "#Button\n",
    "\n",
    "generate_password=Button(text=\"Generate Password\",command=random_password)\n",
    "generate_password.grid(row=3,column=2,)\n",
    "\n",
    "add_button=Button(width=36,text=\"Add\",command=save)\n",
    "add_button.grid(row=4,column=1,columnspan=2)\n",
    "\n",
    "window.mainloop()"
   ]
  },
  {
   "cell_type": "code",
   "execution_count": null,
   "id": "a287f715",
   "metadata": {},
   "outputs": [],
   "source": []
  },
  {
   "cell_type": "code",
   "execution_count": 67,
   "id": "5d58010f",
   "metadata": {},
   "outputs": [
    {
     "name": "stdout",
     "output_type": "stream",
     "text": [
      "Your password is: s5v%Jx04a5kQ%EyN\n"
     ]
    }
   ],
   "source": [
    "#Password Generator Project\n",
    "import random\n",
    "letters = ['a', 'b', 'c', 'd', 'e', 'f', 'g', 'h', 'i', 'j', 'k', 'l', 'm', 'n', 'o', 'p', 'q', 'r', 's', 't', 'u', 'v', 'w', 'x', 'y', 'z', 'A', 'B', 'C', 'D', 'E', 'F', 'G', 'H', 'I', 'J', 'K', 'L', 'M', 'N', 'O', 'P', 'Q', 'R', 'S', 'T', 'U', 'V', 'W', 'X', 'Y', 'Z']\n",
    "numbers = ['0', '1', '2', '3', '4', '5', '6', '7', '8', '9']\n",
    "symbols = ['!', '#', '$', '%', '&', '(', ')', '*', '+']\n",
    "\n",
    "nr_letters = random.randint(8, 10)\n",
    "nr_symbols = random.randint(2, 4)\n",
    "nr_numbers = random.randint(2, 4)\n",
    "\n",
    "password_list = []\n",
    "password_letters=[random.choice(letters) for _ in range(nr_letters)]\n",
    "password_symbols=[random.choice(symbols) for _ in range(nr_symbols)]\n",
    "password_numbers=[random.choice(numbers) for _ in range(nr_numbers)]\n",
    "password_list=password_letters+password_symbols+password_numbers\n",
    "random.shuffle(password_list)\n",
    "\n",
    "password=\"\".join(password_list)\n",
    "\n",
    "print(f\"Your password is: {password}\")"
   ]
  },
  {
   "cell_type": "code",
   "execution_count": null,
   "id": "495c98c3",
   "metadata": {},
   "outputs": [],
   "source": []
  }
 ],
 "metadata": {
  "kernelspec": {
   "display_name": "Python 3 (ipykernel)",
   "language": "python",
   "name": "python3"
  },
  "language_info": {
   "codemirror_mode": {
    "name": "ipython",
    "version": 3
   },
   "file_extension": ".py",
   "mimetype": "text/x-python",
   "name": "python",
   "nbconvert_exporter": "python",
   "pygments_lexer": "ipython3",
   "version": "3.9.12"
  }
 },
 "nbformat": 4,
 "nbformat_minor": 5
}
